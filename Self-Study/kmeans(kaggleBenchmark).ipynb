{
 "cells": [
  {
   "cell_type": "code",
   "execution_count": 22,
   "metadata": {
    "id": "NWpev81UbuBS"
   },
   "outputs": [],
   "source": [
    "import numpy as np # linear algebra\n",
    "import pandas as pd # data processing, CSV file I/O (e.g. pd.read_csv)\n",
    "\n",
    "from sklearn.cluster import KMeans\n",
    "from sklearn.datasets import load_digits\n",
    "#digits dataset from scikit learn consists of 8x8 pixel images of digits\n",
    "\n",
    "#Data plotting and visualization libraries\n",
    "import matplotlib.pyplot as plt\n",
    "import seaborn as sns\n",
    "\n",
    "from scipy.stats import mode\n",
    "from sklearn.metrics import accuracy_score, confusion_matrix"
   ]
  },
  {
   "cell_type": "code",
   "execution_count": 23,
   "metadata": {
    "colab": {
     "base_uri": "https://localhost:8080/"
    },
    "id": "q-4vGUQGbymm",
    "outputId": "c5fdea06-5e4a-45a9-d726-4b4976f4cb01"
   },
   "outputs": [
    {
     "data": {
      "text/plain": [
       "(1797, 64)"
      ]
     },
     "execution_count": 23,
     "metadata": {},
     "output_type": "execute_result"
    }
   ],
   "source": [
    "digits = load_digits() #load the dataset in digits\n",
    "digits.data.shape"
   ]
  },
  {
   "cell_type": "code",
   "execution_count": 24,
   "metadata": {
    "colab": {
     "base_uri": "https://localhost:8080/"
    },
    "id": "z0yvEscib0ue",
    "outputId": "d77e8b3b-6263-4028-f5ac-943ff975c711"
   },
   "outputs": [
    {
     "data": {
      "text/plain": [
       "dict_keys(['data', 'target', 'frame', 'feature_names', 'target_names', 'images', 'DESCR'])"
      ]
     },
     "execution_count": 24,
     "metadata": {},
     "output_type": "execute_result"
    }
   ],
   "source": [
    "digits.keys() #Dataset loaded is a dictionary\n",
    "# data : flattened arrays/tensors used for clustering\n",
    "# target : label associated with flattened array\n",
    "#print(digits.target)"
   ]
  },
  {
   "cell_type": "code",
   "execution_count": 25,
   "metadata": {
    "colab": {
     "base_uri": "https://localhost:8080/"
    },
    "id": "PXDmN14Bb3iF",
    "outputId": "0f4df5fb-dad4-4fc0-a1d6-c24b62360a9c"
   },
   "outputs": [
    {
     "data": {
      "text/plain": [
       "array([[ 0.,  0.,  5., 13.,  9.,  1.,  0.,  0.,  0.,  0., 13., 15., 10.,\n",
       "        15.,  5.,  0.,  0.,  3., 15.,  2.,  0., 11.,  8.,  0.,  0.,  4.,\n",
       "        12.,  0.,  0.,  8.,  8.,  0.,  0.,  5.,  8.,  0.,  0.,  9.,  8.,\n",
       "         0.,  0.,  4., 11.,  0.,  1., 12.,  7.,  0.,  0.,  2., 14.,  5.,\n",
       "        10., 12.,  0.,  0.,  0.,  0.,  6., 13., 10.,  0.,  0.,  0.],\n",
       "       [ 0.,  0.,  0., 12., 13.,  5.,  0.,  0.,  0.,  0.,  0., 11., 16.,\n",
       "         9.,  0.,  0.,  0.,  0.,  3., 15., 16.,  6.,  0.,  0.,  0.,  7.,\n",
       "        15., 16., 16.,  2.,  0.,  0.,  0.,  0.,  1., 16., 16.,  3.,  0.,\n",
       "         0.,  0.,  0.,  1., 16., 16.,  6.,  0.,  0.,  0.,  0.,  1., 16.,\n",
       "        16.,  6.,  0.,  0.,  0.,  0.,  0., 11., 16., 10.,  0.,  0.],\n",
       "       [ 0.,  0.,  0.,  4., 15., 12.,  0.,  0.,  0.,  0.,  3., 16., 15.,\n",
       "        14.,  0.,  0.,  0.,  0.,  8., 13.,  8., 16.,  0.,  0.,  0.,  0.,\n",
       "         1.,  6., 15., 11.,  0.,  0.,  0.,  1.,  8., 13., 15.,  1.,  0.,\n",
       "         0.,  0.,  9., 16., 16.,  5.,  0.,  0.,  0.,  0.,  3., 13., 16.,\n",
       "        16., 11.,  5.,  0.,  0.,  0.,  0.,  3., 11., 16.,  9.,  0.]])"
      ]
     },
     "execution_count": 25,
     "metadata": {},
     "output_type": "execute_result"
    }
   ],
   "source": [
    "digits.data[0:3]"
   ]
  },
  {
   "cell_type": "code",
   "execution_count": 26,
   "metadata": {
    "colab": {
     "base_uri": "https://localhost:8080/"
    },
    "id": "92MH0ua3b64k",
    "outputId": "207e2aaa-1f9f-4f82-fd4e-d89fee6ae533"
   },
   "outputs": [
    {
     "data": {
      "text/plain": [
       "(10, 64)"
      ]
     },
     "execution_count": 26,
     "metadata": {},
     "output_type": "execute_result"
    }
   ],
   "source": [
    "k_means = KMeans(n_clusters=10,random_state=0, n_init='auto')\n",
    "clusters = k_means.fit_predict(digits.data) #run KMeans clustering on digits.data for 1797 records and 64 features\n",
    "k_means.cluster_centers_.shape"
   ]
  },
  {
   "cell_type": "code",
   "execution_count": 27,
   "metadata": {
    "colab": {
     "base_uri": "https://localhost:8080/",
     "height": 268
    },
    "id": "NymWQn2Qb9Ik",
    "outputId": "54f9e627-e8b3-4c72-935d-881759640eb7"
   },
   "outputs": [
    {
     "data": {
      "image/png": "[encoded data removed]",
      "text/plain": [
       "<Figure size 800x300 with 10 Axes>"
      ]
     },
     "metadata": {},
     "output_type": "display_data"
    }
   ],
   "source": [
    "fig, ax = plt.subplots(2, 5, figsize = (8,3)) #Create a figure and a set of subplots( 2 rows and 5 columns)\n",
    "centers = k_means.cluster_centers_.reshape(10,8,8)\n",
    "#flattened image can't be viewed, re-transform/reshape/inverse transform it to original form to view matrix shaped image\n",
    "#reshape 10 rows of clusters (k_means.cluster_centers_ = 10,64) and 64 to 8 * 8 matrix\n",
    "for axi, center in zip(ax.flat, centers): #ax.flat:flattening the image & plotting relevant centers\n",
    "    axi.set(xticks = [], yticks = [])\n",
    "    axi.imshow(center, interpolation='nearest',cmap = plt.cm.binary) #imshow(matplotlib method) to render the image in notebook\n"
   ]
  },
  {
   "cell_type": "code",
   "execution_count": 28,
   "metadata": {
    "colab": {
     "base_uri": "https://localhost:8080/"
    },
    "id": "hDFfp0ODcLVV",
    "outputId": "67ce14fe-b4cb-4ed3-c6de-912b6a2fba6c"
   },
   "outputs": [
    {
     "name": "stdout",
     "output_type": "stream",
     "text": [
      "The labels are : [0 0 0 ... 0 0 0]\n",
      "\n",
      "The size of labels is : (1797,)\n",
      "The mask values are : \n",
      "[False False False ... False False False]\n",
      "[False False False ... False False False]\n",
      "[False False False ... False False False]\n",
      "[False False False ... False False False]\n",
      "[False False False ... False False False]\n",
      "[False False False ... False  True  True]\n",
      "[False False False ... False False False]\n",
      "[False False False ... False False False]\n",
      "[ True False False ... False False False]\n",
      "[False  True  True ...  True False False]\n"
     ]
    }
   ],
   "source": [
    "labels = np.zeros_like(clusters) # blank labels\n",
    "print(f\"The labels are : {labels}\")\n",
    "print(f\"\\nThe size of labels is : {labels.shape}\")\n",
    "print(\"The mask values are : \")\n",
    "for i in range(10):\n",
    "    mask = (clusters == i)\n",
    "    #if a specific digit belongs to/equivalent a specific cluster then its True else False\n",
    "    print(mask)\n",
    "    labels[mask] = mode(digits.target[mask])[0]"
   ]
  },
  {
   "cell_type": "code",
   "execution_count": 29,
   "metadata": {
    "colab": {
     "base_uri": "https://localhost:8080/"
    },
    "id": "VwfWmi19cOuc",
    "outputId": "6aea4da9-9aa7-4c61-fd42-514ddbe3aef7"
   },
   "outputs": [
    {
     "name": "stdout",
     "output_type": "stream",
     "text": [
      "Accuracy: 74.40%\n"
     ]
    }
   ],
   "source": [
    "#if a specific digit belongs to/equivalent a specific cluster then acuracy is 1 else 0\n",
    "accuracy = \"{:.2f}\".format(accuracy_score(digits.target, labels)*100)\n",
    "print(f\"Accuracy: {accuracy}%\")"
   ]
  },
  {
   "cell_type": "code",
   "execution_count": 30,
   "metadata": {
    "colab": {
     "base_uri": "https://localhost:8080/",
     "height": 449
    },
    "id": "U5iHeKHScQZk",
    "outputId": "2da05a69-a36d-41bc-9313-9618420e57fe"
   },
   "outputs": [
    {
     "data": {
      "image/png": "[encoded data removed]",
      "text/plain": [
       "<Figure size 640x480 with 1 Axes>"
      ]
     },
     "metadata": {},
     "output_type": "display_data"
    }
   ],
   "source": [
    "matrix = confusion_matrix(digits.target, labels)\n",
    "sns.heatmap(matrix.T, square = True, annot = True,\n",
    "           fmt = 'd', cbar=False,\n",
    "           xticklabels=digits.target_names,\n",
    "           yticklabels=digits.target_names)\n",
    "plt.xlabel('True Label')\n",
    "plt.ylabel(\"Predicted Label\")\n",
    "plt.show()"
   ]
  },
  {
   "cell_type": "code",
   "execution_count": 31,
   "metadata": {
    "colab": {
     "base_uri": "https://localhost:8080/"
    },
    "id": "qMs9vdgSOllS",
    "outputId": "199f8573-5ded-45be-d110-1ec4a9f16562"
   },
   "outputs": [
    {
     "name": "stdout",
     "output_type": "stream",
     "text": [
      "Accuracy: 74.40%\n"
     ]
    }
   ],
   "source": [
    "#if a specific digit belongs to/equivalent a specific cluster then acuracy is 1 else 0\n",
    "accuracy = \"{:.2f}\".format(accuracy_score(digits.target, labels)*100)\n",
    "print(f\"Accuracy: {accuracy}%\")"
   ]
  },
  {
   "cell_type": "markdown",
   "metadata": {
    "id": "n3nuo_UsbjG0"
   },
   "source": [
    "## Estratégia de Normalização:\n",
    "\n",
    "Esses modelos são muito vulneráveis a escala dos dados, sendo comum então uma padronização dos dados. A estratéga utilizada aqui foi a normalização, ou seja,\n",
    "\n",
    "$$X_{norm} = \\frac{x_i - \\mu}{\\sigma}$$"
   ]
  },
  {
   "cell_type": "code",
   "execution_count": 32,
   "metadata": {
    "id": "gYgeD5kYLbi8"
   },
   "outputs": [],
   "source": [
    "# Função para normalizar os dados\n",
    "def normalize_data(X):\n",
    "    '''\n",
    "    Normaliza os dados para ter média 0 e desvio padrão 1.\n",
    "\n",
    "    # Entrada:\n",
    "    numpy.ndarray: Matriz dos dados.\n",
    "\n",
    "    # Saída:\n",
    "    numpy.ndarray: Matriz dos dados normalizados.\n",
    "    '''\n",
    "    dados_normalizados = []\n",
    "    for data_point in X.T: # Eu acho mais fácil trabalhar com variáveis como linhas.\n",
    "        mean = np.mean(data_point)\n",
    "        std = np.std(data_point)\n",
    "        data_point_normalizado = [(valor - mean) / std for valor in data_point]\n",
    "        dados_normalizados.append(data_point_normalizado)\n",
    "\n",
    "    return np.array(dados_normalizados).T  # Transpondo de volta"
   ]
  },
  {
   "cell_type": "markdown",
   "metadata": {
    "id": "J-ljPeQbbvmy"
   },
   "source": [
    "## Inicialização dos Centroides:\n",
    "\n",
    "Os centroides são iniciados aleatóriamente. Existem formas mais interessantes de se inicializar o k-means, como o k-mean++ porém, a título de algorítmo inicial, apliquei a inicialização mais simples."
   ]
  },
  {
   "cell_type": "code",
   "execution_count": 33,
   "metadata": {
    "id": "Tr6Fpj_PJwgZ"
   },
   "outputs": [],
   "source": [
    "def initialize_centroids(X, K):\n",
    "  '''\n",
    "    Função criada para normalizar inicializar\n",
    "  os centroides.\n",
    "\n",
    "  # Entrada:\n",
    "  numpy.ndarray: Matriz dos dados.\n",
    "  int: Número de clusters.\n",
    "\n",
    "  # Saída:\n",
    "  numpy.ndarray: Matriz dos centróides.\n",
    "\n",
    "  '''\n",
    "  # Seleciona K pontos aleatórios do conjunto de dados como centróides iniciais\n",
    "  indices = np.random.choice(X.shape[0], K, replace=False)\n",
    "  centroids = X[indices]\n",
    "  return centroids"
   ]
  },
  {
   "cell_type": "markdown",
   "metadata": {
    "id": "qzuLOKOzbpzp"
   },
   "source": [
    "## Função de Perda:\n",
    "\n",
    "A Função de Perda do modelo é a **distorção**, soma dos quadrados da distância utilizando **Norma L2**, definida como _inertia_ no sklearn, que se dá por,\n",
    "\n",
    "$$\\text{Loss} = \\sum_{i=0}^n\\min_{\\mu_j \\in C}(||x_i-\\mu_j||^2)$$"
   ]
  },
  {
   "cell_type": "code",
   "execution_count": 34,
   "metadata": {
    "id": "caNEnRKvJ0Rr"
   },
   "outputs": [],
   "source": [
    "def compute_loss(X, centroids, cluster_assignments):\n",
    "    '''\n",
    "    Calcula a distorção (erro de reconstrução) no algoritmo K-means.\n",
    "\n",
    "    # Entradas:\n",
    "    numpy.ndarray: Matriz de dados X com formato (N, D), onde N é o número de pontos e D é o número de dimensões.\n",
    "    numpy.ndarray: Matriz de centróides com formato (K, D), onde K é o número de clusters e D é o número de dimensões.\n",
    "    numpy.ndarray: Array de tamanho N contendo o índice do cluster para cada ponto.\n",
    "\n",
    "    # Saída:\n",
    "    num: O valor da distorção, que é a soma das distâncias ao quadrado entre cada ponto e seu centroide correspondente.\n",
    "    '''\n",
    "    # Calcula a distorção (erro de reconstrução)\n",
    "    loss = np.sum((X - centroids[cluster_assignments])**2)\n",
    "    return loss"
   ]
  },
  {
   "cell_type": "markdown",
   "metadata": {
    "id": "-0q84I6qbyGS"
   },
   "source": [
    "## Processo de Atualização dos Centroids:\n",
    "\n",
    "A função `assign_clusters` é responsável por atribuir os centroids e a `update_centroids` por atualiza-los.\n",
    "\n",
    "\n",
    "**Nota:**\n",
    "A função `np.linalg.norm` é utilizada para calcular normas de vetores ou matrizes, que são essencialmente medidas de magnitude ou distância, no caso aqui ela é a responsável por calcular a **Distância Euclidiana**."
   ]
  },
  {
   "cell_type": "code",
   "execution_count": 35,
   "metadata": {
    "id": "C76oRvnSJx0z"
   },
   "outputs": [],
   "source": [
    "def assign_clusters(X, centroids):\n",
    "  '''\n",
    "  Atribui cada ponto de dados ao centroide mais próximo.\n",
    "\n",
    "  # Entradas:\n",
    "  numpy.ndarray: Matriz de dados X com formato (N, D), onde N é o número de pontos e D é o número de dimensões.\n",
    "  numpy.ndarray: Matriz de centróides com formato (K, D), onde K é o número de clusters e D é o número de dimensões.\n",
    "\n",
    "  # Saída:\n",
    "  numpy.ndarray: Array de tamanho N contendo o índice do cluster mais próximo para cada ponto.\n",
    "  '''\n",
    "  # Atribui cada ponto de dados ao centroide mais próximo\n",
    "  distances = np.linalg.norm(X[:, np.newaxis] - centroids, axis=2)\n",
    "  cluster_assignments = np.argmin(distances, axis=1)\n",
    "  return cluster_assignments"
   ]
  },
  {
   "cell_type": "code",
   "execution_count": 36,
   "metadata": {
    "id": "KpEvkH1KJzNA"
   },
   "outputs": [],
   "source": [
    "def update_centroids(X, cluster_assignments, K):\n",
    "  '''\n",
    "  Atualiza os centróides calculando a média dos pontos atribuídos a cada centroide.\n",
    "\n",
    "  # Entradas:\n",
    "  numpy.ndarray: Matriz de dados X com formato (N, D), onde N é o número de pontos e D é o número de dimensões.\n",
    "  numpy.ndarray: Array de tamanho N contendo o índice do cluster mais próximo para cada ponto.\n",
    "  int: Número de clusters.\n",
    "\n",
    "  # Saída:\n",
    "  numpy.ndarray: Matriz de centróides com formato (K, D), onde K é o número de clusters e D é o número de dimensões.\n",
    "  '''\n",
    "  # Atualiza os centróides calculando a média dos pontos atribuídos a cada centroide\n",
    "  centroids = np.array([X[cluster_assignments == k].mean(axis=0) for k in range(K)])\n",
    "  return centroids"
   ]
  },
  {
   "cell_type": "markdown",
   "metadata": {
    "id": "6AO0Obi4b-JC"
   },
   "source": [
    "## Implementação do algorítmo:\n",
    "\n",
    "A função `k_means` funciona como uma espécie de main, ou seja, é a função que implementa de fato o algortimo."
   ]
  },
  {
   "cell_type": "code",
   "execution_count": 37,
   "metadata": {
    "id": "s-yYKXJAJ1c-"
   },
   "outputs": [],
   "source": [
    "def k_means(X, K, max_iters=100, tol=1e-4):\n",
    "  '''\n",
    "  Implementação do Algoritmo.\n",
    "\n",
    "  # Entradas:\n",
    "  numpy.ndarray: Matriz de dados X com formato (N, D), onde N é o número de pontos e D é o número de dimensões.\n",
    "  int: Número de clusters.\n",
    "  int: Número máximo de iterações\n",
    "\n",
    "  # Saída:\n",
    "  numpy.ndarray: Matriz de centróides com formato (K, D), onde K é o número de clusters e D é o número de dimensões.\n",
    "  numpy.ndarray: Array de tamanho N contendo o índice do cluster para cada ponto.\n",
    "  '''\n",
    "  # Inicializa os centróides\n",
    "  centroids = initialize_centroids(X, K)\n",
    "  for i in range(max_iters):\n",
    "      # Atribui os pontos de dados aos centróides mais próximos\n",
    "      cluster_assignments = assign_clusters(X, centroids)\n",
    "      # Calcula os novos centróides\n",
    "      new_centroids = update_centroids(X, cluster_assignments, K)\n",
    "      # Verifica a convergência (se os centróides mudaram pouco)\n",
    "      if np.linalg.norm(new_centroids - centroids) < tol:\n",
    "          break\n",
    "      centroids = new_centroids\n",
    "  # Calcula a distorção final\n",
    "  final_loss = compute_loss(X, centroids, cluster_assignments)\n",
    "  return centroids, cluster_assignments, final_loss"
   ]
  },
  {
   "cell_type": "code",
   "execution_count": 38,
   "metadata": {
    "id": "ngZr9y_BjfZ3"
   },
   "outputs": [],
   "source": [
    "# Executa o algoritmo K-means\n",
    "centroids, cluster_assignments, final_loss = k_means(digits.data, 10)"
   ]
  },
  {
   "cell_type": "code",
   "execution_count": 39,
   "metadata": {
    "colab": {
     "base_uri": "https://localhost:8080/"
    },
    "id": "C-O-CEsWji3N",
    "outputId": "d06136dc-59f1-45bd-fd53-57d6b79c2301"
   },
   "outputs": [
    {
     "name": "stdout",
     "output_type": "stream",
     "text": [
      "The labels are : [0 0 0 ... 0 0 0]\n",
      "\n",
      "The size of labels is : (1797,)\n",
      "The mask values are : \n",
      "[False False False ... False False False]\n",
      "[False  True  True ...  True False False]\n",
      "[False False False ... False  True False]\n",
      "[False False False ... False False False]\n",
      "[False False False ... False False False]\n",
      "[False False False ... False False False]\n",
      "[False False False ... False False  True]\n",
      "[False False False ... False False False]\n",
      "[ True False False ... False False False]\n",
      "[False False False ... False False False]\n"
     ]
    }
   ],
   "source": [
    "labels = np.zeros_like(cluster_assignments) # blank labels\n",
    "print(f\"The labels are : {labels}\")\n",
    "print(f\"\\nThe size of labels is : {labels.shape}\")\n",
    "print(\"The mask values are : \")\n",
    "for i in range(10):\n",
    "    mask = (cluster_assignments == i)\n",
    "    #if a specific digit belongs to/equivalent a specific cluster then its True else False\n",
    "    print(mask)\n",
    "    labels[mask] = mode(digits.target[mask])[0]"
   ]
  },
  {
   "cell_type": "code",
   "execution_count": 40,
   "metadata": {},
   "outputs": [
    {
     "data": {
      "image/png": "[encoded data removed]",
      "text/plain": [
       "<Figure size 640x480 with 1 Axes>"
      ]
     },
     "metadata": {},
     "output_type": "display_data"
    }
   ],
   "source": [
    "matrix = confusion_matrix(digits.target, labels)\n",
    "sns.heatmap(matrix.T, square = True, annot = True,\n",
    "           fmt = 'd', cbar=False,\n",
    "           xticklabels=digits.target_names,\n",
    "           yticklabels=digits.target_names)\n",
    "plt.xlabel('True Label')\n",
    "plt.ylabel(\"Predicted Label\")\n",
    "plt.show()"
   ]
  },
  {
   "cell_type": "code",
   "execution_count": 41,
   "metadata": {
    "colab": {
     "base_uri": "https://localhost:8080/"
    },
    "id": "RvsY1wr0jtbH",
    "outputId": "4c3449b6-7767-48d4-ed94-6942aa78f8b5"
   },
   "outputs": [
    {
     "name": "stdout",
     "output_type": "stream",
     "text": [
      "Accuracy: 72.68%\n"
     ]
    }
   ],
   "source": [
    "#if a specific digit belongs to/equivalent a specific cluster then acuracy is 1 else 0\n",
    "accuracy = \"{:.2f}\".format(accuracy_score(digits.target, labels)*100)\n",
    "print(f\"Accuracy: {accuracy}%\")"
   ]
  },
  {
   "cell_type": "code",
   "execution_count": 42,
   "metadata": {},
   "outputs": [
    {
     "data": {
      "text/plain": [
       "True"
      ]
     },
     "execution_count": 42,
     "metadata": {},
     "output_type": "execute_result"
    }
   ],
   "source": [
    "teste = \"É um problema de aprendizado não supervisionado.\"\n",
    "corr = \"É um problema de aprendizado não supervisionado.\"\n",
    "\n",
    "teste == corr"
   ]
  },
  {
   "cell_type": "code",
   "execution_count": null,
   "metadata": {},
   "outputs": [],
   "source": []
  }
 ],
 "metadata": {
  "accelerator": "GPU",
  "colab": {
   "gpuType": "T4",
   "provenance": []
  },
  "kernelspec": {
   "display_name": "Python 3 (ipykernel)",
   "language": "python",
   "name": "python3"
  },
  "language_info": {
   "codemirror_mode": {
    "name": "ipython",
    "version": 3
   },
   "file_extension": ".py",
   "mimetype": "text/x-python",
   "name": "python",
   "nbconvert_exporter": "python",
   "pygments_lexer": "ipython3",
   "version": "3.10.13"
  }
 },
 "nbformat": 4,
 "nbformat_minor": 4
}
